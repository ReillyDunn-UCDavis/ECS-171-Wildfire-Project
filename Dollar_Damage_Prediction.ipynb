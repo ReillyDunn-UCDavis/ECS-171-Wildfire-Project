{
  "nbformat": 4,
  "nbformat_minor": 0,
  "metadata": {
    "colab": {
      "provenance": []
    },
    "kernelspec": {
      "name": "python3",
      "display_name": "Python 3"
    },
    "language_info": {
      "name": "python"
    }
  },
  "cells": [
    {
      "cell_type": "markdown",
      "source": [
        "The dataset contains information about the Dollar Damage, Size, Location, and some information about the climate when the fire occured. Because it has information about Dollar Damage, which is what I aim to predict, this will be a supervised model.\n",
        "\n",
        "After doing some data exploration, I found that there is for too much variance in Dollar Damage for any kind of regression model to be reliable. So instead, I have split the costs into classes, similar to how wildfire sizes are split into classes.\n",
        "\n",
        "| Class A | Class B | Class C | Class D  | Class E |\n",
        "|---------|---------|---------|----------|---------|\n",
        "| < \\$100  | \\$100 - \\$500  | \\$500 - \\$2,500 | $2,500 - \\$10,000  | > \\$10,000 |\n",
        "\n",
        "These partitions were chosen so that each class makes up approximately one fifth of the dataset. This was done to prevent any one class from being so common that the model just predicts it every time.\n",
        "\n",
        "With the data split into classes, a Neural Network model can be used to predict which class the fire is likely to be."
      ],
      "metadata": {
        "id": "ON02cBLTrfxw"
      }
    },
    {
      "cell_type": "code",
      "source": [
        "import pandas as pd\n",
        "import numpy as np\n",
        "import matplotlib.pyplot as plt\n",
        "\n",
        "from sklearn.model_selection import train_test_split\n",
        "from sklearn.preprocessing import OneHotEncoder\n",
        "from sklearn.neural_network import MLPClassifier\n",
        "from sklearn.preprocessing import MinMaxScaler\n",
        "from sklearn.model_selection import GridSearchCV\n",
        "from sklearn.model_selection import RandomizedSearchCV\n",
        "from sklearn.metrics import classification_report, confusion_matrix, multilabel_confusion_matrix\n",
        "from sklearn.metrics import mean_squared_error, accuracy_score, precision_score, recall_score\n",
        "from sklearn.preprocessing import LabelEncoder\n",
        "from sklearn.linear_model import LinearRegression\n",
        "from sklearn.tree import DecisionTreeRegressor"
      ],
      "metadata": {
        "id": "nU9gVtETYjHk"
      },
      "execution_count": 50,
      "outputs": []
    },
    {
      "cell_type": "code",
      "execution_count": 51,
      "metadata": {
        "id": "Rkvak72rvp54"
      },
      "outputs": [],
      "source": [
        "dataset = pd.read_csv(\"Dollar Damage.csv\")\n",
        "dataset.dropna(inplace=True)"
      ]
    },
    {
      "cell_type": "code",
      "source": [
        "targetFeatures = [\"Cost Class\"]\n",
        "inputFeatures = [\"Approximate Size (Acres)\", \"Approximate Latitude\", \"Approximate Longitude\", \"Average Temperature In Year In County\", \"Average Precipitation In Year In County\"]\n",
        "\n",
        "X = dataset[inputFeatures]\n",
        "y = dataset[targetFeatures]\n",
        "\n",
        "scaler = MinMaxScaler(feature_range=(0, 1))\n",
        "X_rescaled = scaler.fit_transform(X)\n",
        "X = pd.DataFrame(data = X_rescaled, columns = X.columns)\n",
        "\n",
        "categories = [['A', 'B', 'C', 'D', 'E']]\n",
        "label_encoder = LabelEncoder()\n",
        "y = label_encoder.fit_transform(dataset[\"Cost Class\"])\n",
        "\n",
        "print(\"Pre-processed data :\")\n",
        "print(X)\n",
        "\n",
        "print(\"Pre-processed class :\")\n",
        "print(y)"
      ],
      "metadata": {
        "colab": {
          "base_uri": "https://localhost:8080/"
        },
        "id": "EZdvUCQaYKus",
        "outputId": "4b1321ff-fb7b-416b-ded2-03b2dd14a697"
      },
      "execution_count": 52,
      "outputs": [
        {
          "output_type": "stream",
          "name": "stdout",
          "text": [
            "Pre-processed data :\n",
            "      Approximate Size (Acres)  Approximate Latitude  Approximate Longitude  \\\n",
            "0                          0.0              0.529839               0.259252   \n",
            "1                          0.0              0.621105               0.417000   \n",
            "2                          0.0              0.761188               0.298177   \n",
            "3                          0.0              0.591350               0.428583   \n",
            "4                          0.0              1.000000               0.000000   \n",
            "...                        ...                   ...                    ...   \n",
            "1478                       1.0              0.210125               0.977571   \n",
            "1479                       1.0              0.000000               0.903008   \n",
            "1480                       1.0              0.270632               0.442858   \n",
            "1481                       1.0              0.367306               0.651723   \n",
            "1482                       1.0              0.520119               0.373262   \n",
            "\n",
            "      Average Temperature In Year In County  \\\n",
            "0                                  0.575875   \n",
            "1                                  0.564202   \n",
            "2                                  0.634241   \n",
            "3                                  0.583658   \n",
            "4                                  0.311284   \n",
            "...                                     ...   \n",
            "1478                               0.785992   \n",
            "1479                               0.634241   \n",
            "1480                               0.505837   \n",
            "1481                               0.307393   \n",
            "1482                               0.571984   \n",
            "\n",
            "      Average Precipitation In Year In County  \n",
            "0                                    0.133745  \n",
            "1                                    0.272613  \n",
            "2                                    0.308062  \n",
            "3                                    0.254000  \n",
            "4                                    0.615184  \n",
            "...                                       ...  \n",
            "1478                                 0.065879  \n",
            "1479                                 0.176200  \n",
            "1480                                 0.213950  \n",
            "1481                                 0.302729  \n",
            "1482                                 0.151208  \n",
            "\n",
            "[1483 rows x 5 columns]\n",
            "Pre-processed class :\n",
            "[1 0 0 ... 4 4 4]\n"
          ]
        }
      ]
    },
    {
      "cell_type": "markdown",
      "source": [
        "Hyperparameters were chosen after applying the Grid Search Algorithm."
      ],
      "metadata": {
        "id": "MaakAcy6Cn0Q"
      }
    },
    {
      "cell_type": "code",
      "source": [
        "import warnings\n",
        "from sklearn.exceptions import ConvergenceWarning\n",
        "warnings.filterwarnings(\"ignore\", category=ConvergenceWarning)\n",
        "\n",
        "data_train, data_test, class_train, class_test = train_test_split(X, y, test_size=0.3)\n",
        "\n",
        "mlp = MLPClassifier(solver = 'lbfgs', activation = 'logistic',\n",
        "                    learning_rate_init = 0.2, batch_size = 10, hidden_layer_sizes = (14, 9), max_iter = 200)\n",
        "\n",
        "mlp.fit(data_train, class_train)\n",
        "\n",
        "pred = mlp.predict(data_test)\n",
        "\n",
        "print(\"Accuracy : \", accuracy_score(class_test, pred))\n",
        "print(\"Mean Square Error : \", mean_squared_error(class_test, pred))\n",
        "\n",
        "pred"
      ],
      "metadata": {
        "colab": {
          "base_uri": "https://localhost:8080/"
        },
        "id": "QbJKaoiWNBoc",
        "outputId": "80700f04-98a4-4488-fcd4-77ca5bf7e33c"
      },
      "execution_count": 53,
      "outputs": [
        {
          "output_type": "stream",
          "name": "stdout",
          "text": [
            "Accuracy :  0.40898876404494383\n",
            "Mean Square Error :  2.0359550561797755\n"
          ]
        },
        {
          "output_type": "execute_result",
          "data": {
            "text/plain": [
              "array([4, 2, 1, 0, 0, 1, 2, 0, 1, 2, 4, 1, 0, 2, 0, 1, 0, 0, 0, 4, 4, 1,\n",
              "       2, 4, 4, 1, 0, 0, 0, 1, 4, 2, 1, 0, 0, 1, 1, 1, 4, 1, 1, 4, 1, 2,\n",
              "       1, 0, 0, 0, 0, 3, 2, 1, 1, 1, 1, 1, 0, 4, 1, 4, 4, 0, 2, 2, 4, 2,\n",
              "       2, 0, 1, 2, 0, 1, 4, 4, 4, 2, 1, 0, 4, 2, 4, 4, 1, 1, 4, 2, 1, 1,\n",
              "       4, 4, 4, 0, 1, 1, 1, 4, 4, 2, 4, 2, 4, 4, 0, 2, 1, 0, 0, 0, 0, 1,\n",
              "       4, 1, 4, 0, 4, 2, 1, 2, 4, 1, 1, 0, 0, 2, 1, 4, 0, 4, 1, 1, 0, 0,\n",
              "       1, 2, 4, 1, 4, 0, 2, 4, 4, 1, 0, 4, 4, 0, 1, 2, 4, 4, 1, 1, 2, 0,\n",
              "       2, 0, 4, 4, 0, 1, 0, 2, 4, 0, 1, 4, 2, 4, 1, 1, 0, 1, 1, 4, 4, 0,\n",
              "       4, 0, 2, 1, 0, 4, 0, 4, 4, 1, 4, 1, 3, 1, 1, 1, 4, 1, 1, 4, 0, 1,\n",
              "       2, 2, 2, 0, 1, 4, 4, 3, 4, 2, 4, 4, 1, 0, 1, 1, 4, 4, 4, 2, 0, 1,\n",
              "       4, 4, 0, 4, 0, 1, 0, 4, 4, 4, 4, 2, 2, 0, 1, 1, 1, 4, 1, 2, 1, 1,\n",
              "       2, 0, 4, 0, 4, 0, 4, 4, 1, 4, 0, 0, 1, 1, 4, 4, 1, 4, 4, 0, 4, 1,\n",
              "       0, 1, 4, 4, 1, 1, 4, 2, 0, 1, 4, 4, 1, 2, 0, 1, 2, 4, 0, 1, 1, 4,\n",
              "       4, 0, 1, 4, 2, 1, 4, 2, 4, 4, 2, 4, 4, 0, 1, 4, 0, 1, 0, 4, 1, 4,\n",
              "       1, 0, 0, 1, 0, 1, 0, 1, 4, 4, 2, 4, 0, 1, 4, 4, 2, 2, 1, 2, 4, 2,\n",
              "       4, 2, 4, 0, 2, 1, 4, 4, 1, 4, 2, 1, 4, 2, 1, 2, 4, 0, 1, 2, 4, 4,\n",
              "       1, 4, 1, 3, 1, 2, 0, 0, 1, 4, 2, 4, 4, 1, 0, 0, 2, 4, 1, 0, 2, 4,\n",
              "       4, 2, 4, 0, 0, 0, 1, 0, 2, 1, 1, 0, 4, 1, 0, 0, 2, 4, 4, 4, 0, 4,\n",
              "       4, 1, 4, 4, 2, 1, 0, 1, 4, 1, 2, 0, 1, 2, 0, 0, 2, 1, 4, 2, 2, 4,\n",
              "       0, 1, 1, 1, 4, 1, 0, 2, 1, 4, 4, 1, 0, 1, 0, 0, 4, 4, 4, 1, 1, 2,\n",
              "       4, 1, 4, 1, 2])"
            ]
          },
          "metadata": {},
          "execution_count": 53
        }
      ]
    },
    {
      "cell_type": "code",
      "source": [
        "print(\"Weights of the neural network:\")\n",
        "for i, coef in enumerate(mlp.coefs_):\n",
        "    print(f\"Layer {i}:\")\n",
        "    print(coef)"
      ],
      "metadata": {
        "colab": {
          "base_uri": "https://localhost:8080/"
        },
        "id": "JFWKmY_jtWbR",
        "outputId": "38d4c297-c2bf-47b7-9f37-f354913cc243"
      },
      "execution_count": 54,
      "outputs": [
        {
          "output_type": "stream",
          "name": "stdout",
          "text": [
            "Weights of the neural network:\n",
            "Layer 0:\n",
            "[[-2.27590783e+01  1.54708372e+01 -1.81317692e+01 -1.74993100e+01\n",
            "   3.43390402e+01  2.03922952e+01  4.47258091e+00  3.27818899e+01\n",
            "   1.87200177e+01  1.79963631e+01  1.40805601e+01  6.33258043e+00\n",
            "  -2.59155721e+01  3.17195102e+00]\n",
            " [-1.98257553e+00  3.96435019e+00  1.46420756e+00 -1.25862254e+00\n",
            "   2.14277403e-01  3.45138106e+00  4.61940549e+00  6.37352421e-01\n",
            "   2.29754413e+00  5.78102875e-01  6.02753185e+00 -1.80051069e+00\n",
            "  -5.12912778e-01  9.64877105e-01]\n",
            " [-3.08966484e+00  4.22219979e-01 -1.11863034e-01 -7.07390854e-01\n",
            "  -4.46308760e-01 -5.14688834e-01 -2.60051129e+00  3.65266983e-01\n",
            "   1.44687299e+00  3.63662102e-01 -4.74525946e+00 -2.67007981e+00\n",
            "  -1.27968037e+00 -2.07032290e+00]\n",
            " [-3.24435621e+00  1.85955776e+00 -2.50115344e+00  4.31396013e-01\n",
            "  -5.28767304e-01 -2.21263111e+00  2.00879347e+00 -4.64869704e-01\n",
            "   1.41890524e+00  1.99467177e+00  1.20415595e+00 -4.41350225e-01\n",
            "   2.48465428e-01 -4.06222574e+00]\n",
            " [-1.21492357e-01  2.79896332e+00 -1.08393797e+00 -3.71709782e-01\n",
            "  -2.77947145e-02  5.73509667e-01  5.44452938e+00 -7.77124524e-01\n",
            "   3.68220201e+00  2.03273940e+00  6.91943981e+00  4.15715027e+00\n",
            "   2.94192775e+00 -3.34514010e-01]]\n",
            "Layer 1:\n",
            "[[-3.21631724e+00 -9.18525799e-01  6.48748687e+00  8.61901069e+00\n",
            "  -4.13761112e+00  9.34902505e+00  1.99879381e+00 -7.91773979e+00\n",
            "  -5.15773058e+00]\n",
            " [ 1.07799490e+00  2.46057217e+00 -1.87355602e+00 -1.38659816e+00\n",
            "   4.62272673e+00 -1.24755225e+00 -5.85431105e-01  3.21849521e+00\n",
            "  -6.28002451e+00]\n",
            " [-4.60576586e+00  6.90598744e+00 -4.23088284e+00  6.75527961e+00\n",
            "   6.43382233e+00  7.17209196e+00  3.55024652e-01 -3.29544550e-01\n",
            "  -1.52107040e+01]\n",
            " [ 4.06560327e-01  5.23218501e-01  2.76387169e+00  4.18999732e+00\n",
            "  -1.54335202e+00  9.67260321e+00  1.66185324e+00 -5.43128560e+00\n",
            "  -3.86402235e+00]\n",
            " [ 1.53908117e+01 -8.69448046e+00  7.21644813e+00 -4.05413236e+00\n",
            "  -9.77178175e+00  8.52920306e+00  1.49350121e+00 -6.71390039e+00\n",
            "   3.29968173e+01]\n",
            " [ 1.22861925e+00  7.01555296e+00 -3.31259701e+00 -2.93146680e+00\n",
            "   6.21138009e-02 -1.85670425e-02 -3.04819261e+00 -2.07264067e+00\n",
            "   2.89017443e+00]\n",
            " [-4.92864756e+00  6.51189058e+00 -3.78829569e+00  1.56255700e+00\n",
            "   6.41854956e+00 -4.28600000e+00 -1.90281712e+00  3.75290187e+00\n",
            "  -1.66162221e+01]\n",
            " [ 1.38458325e+01 -7.78556657e+00  1.12926209e+01 -5.59954487e+00\n",
            "  -1.40101308e+01  8.45576253e+00  2.05812247e+00 -1.14247321e+01\n",
            "   3.34575828e+01]\n",
            " [ 2.24583477e+00  4.48387829e+00 -6.29737206e-01 -4.18886289e+00\n",
            "   2.06104750e-02 -2.92298091e-02 -1.95535107e+00 -1.46159310e+00\n",
            "   1.76113709e+00]\n",
            " [ 6.87395747e+00 -4.21484525e+00  5.35915550e+00 -4.16574579e+00\n",
            "  -3.32350243e+00  2.05400538e+00  1.41609917e+00 -1.64335103e+00\n",
            "   9.49891172e+00]\n",
            " [-3.02697401e+00  6.47356575e+00 -4.59673317e+00  3.07121880e+00\n",
            "   7.42753356e+00 -3.82177471e+00 -1.88390033e+00  4.88827637e+00\n",
            "  -1.20720214e+01]\n",
            " [ 6.64893756e+00 -5.61071011e+00  8.57328109e+00 -3.47501928e+00\n",
            "  -1.01929108e+01  6.08307917e+00  1.02700636e-01 -8.06120779e+00\n",
            "   1.53220375e+01]\n",
            " [-9.84190142e+00  4.65245625e+00 -2.30442058e-01  7.10491583e+00\n",
            "   3.92676198e+00 -6.62336464e-01 -5.35477357e-01 -2.01067210e-01\n",
            "  -2.26489846e+01]\n",
            " [ 6.84361708e-01 -4.59961222e-01  3.95023200e-01  3.74779356e+00\n",
            "   2.46772258e+00  3.41306066e+00  3.91322328e-01  4.00707252e-01\n",
            "  -2.39492180e+00]]\n",
            "Layer 2:\n",
            "[[ -7.08233115  -6.70940093  -3.91866276   2.02730551  16.4270578 ]\n",
            " [  4.21086787   0.34246409   2.27393394  -1.29628738  -5.58700524]\n",
            " [  7.16966059   5.74769006   2.72568064  -0.27396793 -15.48303175]\n",
            " [ 17.53314478  13.31427135  -6.28667557  -4.41684758 -19.03887883]\n",
            " [  7.16171226  -2.33630636  -2.82888849  -5.01952771   2.46525021]\n",
            " [  8.50084991   4.66114983   8.82901642  -0.14918494 -21.90185893]\n",
            " [  4.59350448   1.83384568   1.37685563  -0.95922326  -6.02669112]\n",
            " [ -6.18190271  -0.30876526 -10.49697494  -0.80919473  17.03183043]\n",
            " [-19.65318746  -4.98781133  -9.11671097   4.49776572  28.91240343]]\n"
          ]
        }
      ]
    },
    {
      "cell_type": "code",
      "source": [
        "print(\"Confusion Matrix for each label : \")\n",
        "\n",
        "classNum = 0\n",
        "for matrix in multilabel_confusion_matrix(class_test, pred):\n",
        "  print(f\"Class: {categories[0][classNum]}\")\n",
        "  classNum += 1\n",
        "\n",
        "  tn, fp, fn, tp = matrix.ravel()\n",
        "  print(f\"         Actual Positive | Actual Negative\")\n",
        "  print(f\"-------------------|-----|----------------\")\n",
        "  print(f\"Predicted Positive | {str(tp).rjust(3)} | {str(fp).rjust(3)}\")\n",
        "  print(f\"-------------------|-----|----------------\")\n",
        "  print(f\"Predicted Negative | {str(fn).rjust(3)} | {str(tn).rjust(3)}\")\n",
        "  print(f\"TP: {tp}, FP: {fp}, FN: {fn}, TN: {tn}\\n\")\n",
        "\n",
        "print(\"Classification Report : \")\n",
        "print(classification_report(class_test, pred))"
      ],
      "metadata": {
        "colab": {
          "base_uri": "https://localhost:8080/"
        },
        "id": "ZN5JoOBsNE21",
        "outputId": "338c96fd-7a50-4539-980e-4e9b0b0ef129"
      },
      "execution_count": 55,
      "outputs": [
        {
          "output_type": "stream",
          "name": "stdout",
          "text": [
            "Confusion Matrix for each label : \n",
            "Class: A\n",
            "         Actual Positive | Actual Negative\n",
            "-------------------|-----|----------------\n",
            "Predicted Positive |  48 |  50\n",
            "-------------------|-----|----------------\n",
            "Predicted Negative |  52 | 295\n",
            "TP: 48, FP: 50, FN: 52, TN: 295\n",
            "\n",
            "Class: B\n",
            "         Actual Positive | Actual Negative\n",
            "-------------------|-----|----------------\n",
            "Predicted Positive |  42 |  88\n",
            "-------------------|-----|----------------\n",
            "Predicted Negative |  52 | 263\n",
            "TP: 42, FP: 88, FN: 52, TN: 263\n",
            "\n",
            "Class: C\n",
            "         Actual Positive | Actual Negative\n",
            "-------------------|-----|----------------\n",
            "Predicted Positive |  18 |  54\n",
            "-------------------|-----|----------------\n",
            "Predicted Negative |  65 | 308\n",
            "TP: 18, FP: 54, FN: 65, TN: 308\n",
            "\n",
            "Class: D\n",
            "         Actual Positive | Actual Negative\n",
            "-------------------|-----|----------------\n",
            "Predicted Positive |   1 |   3\n",
            "-------------------|-----|----------------\n",
            "Predicted Negative |  77 | 364\n",
            "TP: 1, FP: 3, FN: 77, TN: 364\n",
            "\n",
            "Class: E\n",
            "         Actual Positive | Actual Negative\n",
            "-------------------|-----|----------------\n",
            "Predicted Positive |  73 |  68\n",
            "-------------------|-----|----------------\n",
            "Predicted Negative |  17 | 287\n",
            "TP: 73, FP: 68, FN: 17, TN: 287\n",
            "\n",
            "Classification Report : \n",
            "              precision    recall  f1-score   support\n",
            "\n",
            "           0       0.49      0.48      0.48       100\n",
            "           1       0.32      0.45      0.38        94\n",
            "           2       0.25      0.22      0.23        83\n",
            "           3       0.25      0.01      0.02        78\n",
            "           4       0.52      0.81      0.63        90\n",
            "\n",
            "    accuracy                           0.41       445\n",
            "   macro avg       0.37      0.39      0.35       445\n",
            "weighted avg       0.37      0.41      0.36       445\n",
            "\n"
          ]
        }
      ]
    },
    {
      "cell_type": "code",
      "source": [
        "def gridSearch():\n",
        "  max_iterations = 200 * np.arange(1,3)\n",
        "  hidden_layer_siz = [\n",
        "      (10, 1), (11, 1), (12, 1), (13, 1), (14, 1), (15, 1), (16, 1), (17, 1), (18, 1), (19, 1), (20, 1),\n",
        "      (10, 2), (11, 2), (12, 2), (13, 2), (14, 2), (15, 2), (16, 2), (17, 2), (18, 2), (19, 2), (20, 2),\n",
        "      (10, 3), (11, 3), (12, 3), (13, 3), (14, 3), (15, 3), (16, 3), (17, 3), (18, 3), (19, 3), (20, 3),\n",
        "      (10, 4), (11, 4), (12, 4), (13, 4), (14, 4), (15, 4), (16, 4), (17, 4), (18, 4), (19, 4), (20, 4),\n",
        "      (10, 5), (11, 5), (12, 5), (13, 5), (14, 5), (15, 5), (16, 5), (17, 5), (18, 5), (19, 5), (20, 5),\n",
        "      (10, 6), (11, 6), (12, 6), (13, 6), (14, 6), (15, 6), (16, 6), (17, 6), (18, 6), (19, 6), (20, 6),\n",
        "      (10, 7), (11, 7), (12, 7), (13, 7), (14, 7), (15, 7), (16, 7), (17, 7), (18, 7), (19, 7), (20, 7),\n",
        "      (10, 8), (11, 8), (12, 8), (13, 8), (14, 8), (15, 8), (16, 8), (17, 8), (18, 8), (19, 8), (20, 8),\n",
        "      (10, 9), (11, 9), (12, 9), (13, 9), (14, 9), (15, 9), (16, 9), (17, 9), (18, 9), (19, 9), (20, 9),\n",
        "      (10, 10), (11, 10), (12, 10), (13, 10), (14, 10), (15, 10), (16, 10), (17, 10), (18, 10), (19, 10), (20, 10)\n",
        "  ]\n",
        "\n",
        "  learning_rates = 0.1 * np.arange(1, 3)\n",
        "\n",
        "  param_grid = dict(learning_rate_init = learning_rates, hidden_layer_sizes = hidden_layer_siz, max_iter = max_iterations)\n",
        "  # set model\n",
        "  mlp = MLPClassifier(solver = 'lbfgs', activation = 'logistic',\n",
        "                      learning_rate_init = 0.2, batch_size = 10, hidden_layer_sizes = (14, 9), max_iter = 200)\n",
        "\n",
        "  # For Grid Search\n",
        "  grid = GridSearchCV(estimator = mlp, param_grid = param_grid)\n",
        "\n",
        "  # For Random Search\n",
        "  # grid = RandomizedSearchCV(estimator = mlp, param_distributions = param_grid, n_iter = 10)\n",
        "\n",
        "  grid.fit(X,y)\n",
        "\n",
        "  print(\"Optimal Hyper-parameters : \", grid.best_params_)\n",
        "  print(\"Optimal Accuracy : \", grid.best_score_)\n",
        "\n",
        "#gridSearch()"
      ],
      "metadata": {
        "id": "Ab0lErcMhSht"
      },
      "execution_count": 56,
      "outputs": []
    }
  ]
}
