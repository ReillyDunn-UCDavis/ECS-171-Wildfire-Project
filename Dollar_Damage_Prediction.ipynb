{
  "nbformat": 4,
  "nbformat_minor": 0,
  "metadata": {
    "colab": {
      "provenance": []
    },
    "kernelspec": {
      "name": "python3",
      "display_name": "Python 3"
    },
    "language_info": {
      "name": "python"
    }
  },
  "cells": [
    {
      "cell_type": "markdown",
      "source": [
        "The dataset contains information about the Dollar Damage, Size, Location, and some information about the climate when the fire occured. Because it has information about Dollar Damage, which is what I aim to predict, this will be a supervised model.\n",
        "\n",
        "After doing some data exploration, I found that there is for too much variance in Dollar Damage for any kind of regression model to be reliable. So instead, I have split the costs into classes, similar to how wildfire sizes are split into classes.\n",
        "\n",
        "| Class A | Class B | Class C | Class D  | Class E |\n",
        "|---------|---------|---------|----------|---------|\n",
        "| < \\$100  | \\$100 - \\$500  | \\$500 - \\$2,500 | $2,500 - \\$10,000  | > \\$10,000 |\n",
        "\n",
        "These partitions were chosen so that each class makes up approximately one fifth of the dataset. This was done to prevent any one class from being so common that the model just predicts it every time.\n",
        "\n",
        "With the data split into classes, a Neural Network model can be used to predict which class the fire is likely to be."
      ],
      "metadata": {
        "id": "ON02cBLTrfxw"
      }
    },
    {
      "cell_type": "code",
      "source": [
        "import pandas as pd\n",
        "import numpy as np\n",
        "import matplotlib.pyplot as plt\n",
        "\n",
        "from sklearn.model_selection import train_test_split\n",
        "from sklearn.preprocessing import OneHotEncoder\n",
        "from sklearn.neural_network import MLPClassifier\n",
        "from sklearn.preprocessing import MinMaxScaler\n",
        "from sklearn.model_selection import GridSearchCV\n",
        "from sklearn.model_selection import RandomizedSearchCV\n",
        "from sklearn.metrics import classification_report, confusion_matrix, multilabel_confusion_matrix\n",
        "from sklearn.metrics import mean_squared_error, accuracy_score, precision_score, recall_score\n",
        "from sklearn.preprocessing import LabelEncoder\n",
        "from sklearn.linear_model import LinearRegression\n",
        "from sklearn.tree import DecisionTreeRegressor"
      ],
      "metadata": {
        "id": "nU9gVtETYjHk"
      },
      "execution_count": 3,
      "outputs": []
    },
    {
      "cell_type": "code",
      "execution_count": 4,
      "metadata": {
        "id": "Rkvak72rvp54"
      },
      "outputs": [],
      "source": [
        "dataset = pd.read_csv(\"Dollar Damage.csv\")\n",
        "dataset.dropna(inplace=True)"
      ]
    },
    {
      "cell_type": "code",
      "source": [
        "targetFeatures = [\"Cost Class\"]\n",
        "inputFeatures = [\"Approximate Size (Acres)\", \"Approximate Latitude\", \"Approximate Longitude\", \"Average Temperature In Year In County\", \"Average Precipitation In Year In County\"]\n",
        "\n",
        "X = dataset[inputFeatures]\n",
        "y = dataset[targetFeatures]\n",
        "\n",
        "scaler = MinMaxScaler(feature_range=(0, 1))\n",
        "X_rescaled = scaler.fit_transform(X)\n",
        "X = pd.DataFrame(data = X_rescaled, columns = X.columns)\n",
        "\n",
        "categories = [['A', 'B', 'C', 'D', 'E']]\n",
        "label_encoder = LabelEncoder()\n",
        "y = label_encoder.fit_transform(dataset[\"Cost Class\"])\n",
        "\n",
        "print(\"Pre-processed data :\")\n",
        "print(X)\n",
        "\n",
        "print(\"Pre-processed class :\")\n",
        "print(y)"
      ],
      "metadata": {
        "colab": {
          "base_uri": "https://localhost:8080/"
        },
        "id": "EZdvUCQaYKus",
        "outputId": "0b75ca72-2b12-460b-f5c3-9e8c56b3fb38"
      },
      "execution_count": 5,
      "outputs": [
        {
          "output_type": "stream",
          "name": "stdout",
          "text": [
            "Pre-processed data :\n",
            "      Approximate Size (Acres)  Approximate Latitude  Approximate Longitude  \\\n",
            "0                          0.0              0.529839               0.259252   \n",
            "1                          0.0              0.621105               0.417000   \n",
            "2                          0.0              0.761188               0.298177   \n",
            "3                          0.0              0.591350               0.428583   \n",
            "4                          0.0              1.000000               0.000000   \n",
            "...                        ...                   ...                    ...   \n",
            "1478                       1.0              0.210125               0.977571   \n",
            "1479                       1.0              0.000000               0.903008   \n",
            "1480                       1.0              0.270632               0.442858   \n",
            "1481                       1.0              0.367306               0.651723   \n",
            "1482                       1.0              0.520119               0.373262   \n",
            "\n",
            "      Average Temperature In Year In County  \\\n",
            "0                                  0.575875   \n",
            "1                                  0.564202   \n",
            "2                                  0.634241   \n",
            "3                                  0.583658   \n",
            "4                                  0.311284   \n",
            "...                                     ...   \n",
            "1478                               0.785992   \n",
            "1479                               0.634241   \n",
            "1480                               0.505837   \n",
            "1481                               0.307393   \n",
            "1482                               0.571984   \n",
            "\n",
            "      Average Precipitation In Year In County  \n",
            "0                                    0.133745  \n",
            "1                                    0.272613  \n",
            "2                                    0.308062  \n",
            "3                                    0.254000  \n",
            "4                                    0.615184  \n",
            "...                                       ...  \n",
            "1478                                 0.065879  \n",
            "1479                                 0.176200  \n",
            "1480                                 0.213950  \n",
            "1481                                 0.302729  \n",
            "1482                                 0.151208  \n",
            "\n",
            "[1483 rows x 5 columns]\n",
            "Pre-processed class :\n",
            "[1 0 0 ... 4 4 4]\n"
          ]
        }
      ]
    },
    {
      "cell_type": "markdown",
      "source": [
        "Hyperparameters were chosen after applying the Grid Search Algorithm."
      ],
      "metadata": {
        "id": "MaakAcy6Cn0Q"
      }
    },
    {
      "cell_type": "code",
      "source": [
        "import warnings\n",
        "from sklearn.exceptions import ConvergenceWarning\n",
        "warnings.filterwarnings(\"ignore\", category=ConvergenceWarning)\n",
        "\n",
        "data_train, data_test, class_train, class_test = train_test_split(X, y, test_size=0.3)\n",
        "\n",
        "mlp = MLPClassifier(solver = 'lbfgs', activation = 'logistic',\n",
        "                    learning_rate_init = 0.2, batch_size = 10, hidden_layer_sizes = (14, 9), max_iter = 200)\n",
        "\n",
        "mlp.fit(data_train, class_train)\n",
        "\n",
        "pred = mlp.predict(data_test)\n",
        "\n",
        "print(\"Accuracy : \", accuracy_score(class_test, pred))\n",
        "print(\"Mean Square Error : \", mean_squared_error(class_test, pred))\n",
        "\n",
        "pred"
      ],
      "metadata": {
        "colab": {
          "base_uri": "https://localhost:8080/"
        },
        "id": "QbJKaoiWNBoc",
        "outputId": "7c3f9894-9fde-4996-d1c8-11b96606928e"
      },
      "execution_count": 6,
      "outputs": [
        {
          "output_type": "stream",
          "name": "stdout",
          "text": [
            "Accuracy :  0.42921348314606744\n",
            "Mean Square Error :  1.8224719101123596\n"
          ]
        },
        {
          "output_type": "execute_result",
          "data": {
            "text/plain": [
              "array([3, 2, 1, 0, 2, 0, 4, 0, 1, 4, 0, 2, 1, 3, 3, 1, 4, 0, 4, 1, 1, 1,\n",
              "       4, 4, 0, 0, 0, 0, 1, 4, 4, 4, 4, 1, 3, 3, 4, 4, 4, 4, 0, 0, 2, 4,\n",
              "       2, 4, 2, 0, 2, 4, 0, 4, 0, 0, 4, 0, 2, 0, 0, 0, 4, 4, 4, 2, 0, 0,\n",
              "       1, 0, 1, 4, 4, 1, 0, 1, 4, 3, 4, 3, 4, 0, 0, 0, 4, 1, 1, 2, 1, 3,\n",
              "       0, 1, 4, 4, 4, 1, 1, 0, 2, 1, 0, 4, 1, 1, 1, 1, 4, 1, 4, 4, 2, 2,\n",
              "       0, 1, 4, 2, 4, 3, 2, 1, 0, 4, 2, 1, 4, 3, 4, 0, 0, 2, 0, 4, 1, 2,\n",
              "       3, 0, 4, 1, 4, 2, 2, 1, 4, 0, 3, 1, 1, 0, 1, 4, 4, 4, 0, 0, 1, 1,\n",
              "       1, 2, 0, 1, 2, 4, 4, 1, 2, 2, 4, 4, 4, 0, 1, 4, 0, 0, 1, 4, 0, 4,\n",
              "       1, 1, 0, 3, 2, 2, 2, 3, 0, 4, 1, 4, 2, 0, 0, 0, 0, 4, 4, 0, 1, 1,\n",
              "       0, 1, 2, 4, 1, 3, 1, 4, 4, 1, 0, 4, 3, 1, 0, 0, 2, 4, 3, 2, 1, 4,\n",
              "       0, 4, 4, 0, 1, 4, 0, 1, 0, 2, 1, 2, 1, 1, 4, 4, 3, 3, 2, 1, 0, 4,\n",
              "       0, 0, 1, 2, 1, 4, 4, 1, 4, 4, 0, 3, 0, 1, 0, 3, 2, 2, 4, 1, 0, 0,\n",
              "       4, 1, 1, 4, 4, 1, 2, 3, 4, 0, 3, 4, 2, 0, 0, 4, 1, 3, 0, 1, 4, 4,\n",
              "       0, 1, 0, 0, 1, 0, 1, 1, 4, 1, 1, 4, 2, 4, 0, 0, 0, 1, 1, 0, 4, 0,\n",
              "       1, 4, 2, 1, 1, 4, 0, 2, 2, 4, 0, 4, 4, 3, 0, 3, 0, 0, 4, 0, 0, 2,\n",
              "       4, 0, 4, 4, 3, 1, 1, 4, 1, 0, 3, 4, 0, 1, 3, 2, 0, 1, 4, 0, 0, 0,\n",
              "       1, 0, 0, 1, 1, 0, 4, 4, 2, 1, 1, 3, 3, 0, 0, 1, 2, 4, 0, 0, 2, 4,\n",
              "       1, 4, 1, 3, 4, 1, 4, 0, 0, 1, 4, 4, 1, 1, 4, 1, 2, 0, 4, 4, 3, 1,\n",
              "       0, 0, 4, 2, 3, 4, 4, 0, 4, 4, 0, 0, 3, 4, 1, 1, 2, 1, 4, 2, 4, 4,\n",
              "       3, 0, 4, 0, 0, 1, 2, 1, 4, 0, 0, 4, 4, 4, 0, 0, 0, 0, 1, 1, 1, 1,\n",
              "       0, 3, 2, 0, 0])"
            ]
          },
          "metadata": {},
          "execution_count": 6
        }
      ]
    },
    {
      "cell_type": "code",
      "source": [
        "print(\"Weights of the neural network:\")\n",
        "for i, coef in enumerate(mlp.coefs_):\n",
        "    print(f\"Layer {i}:\")\n",
        "    print(coef)"
      ],
      "metadata": {
        "colab": {
          "base_uri": "https://localhost:8080/"
        },
        "id": "JFWKmY_jtWbR",
        "outputId": "a4e038f1-2c22-45ab-f44c-83e05806cf79"
      },
      "execution_count": 7,
      "outputs": [
        {
          "output_type": "stream",
          "name": "stdout",
          "text": [
            "Weights of the neural network:\n",
            "Layer 0:\n",
            "[[ -2.79752657   7.59271334   8.1867471   22.82337216 -33.93590325\n",
            "   -1.03318483  25.75221129 -14.00994495 -11.59485717  15.6373161\n",
            "  -28.62693651  17.01538701  17.83477055 -10.82617863]\n",
            " [ -3.04177843  -1.76559805  -0.06762998   1.20035585   3.30132877\n",
            "   -1.15914823   2.27504115   2.47355143  -6.58278079   4.52413099\n",
            "   -2.04999341   2.13125154  -4.76720286  -1.29893221]\n",
            " [ -4.64911977   1.42297829  -1.03710965  -1.77969873  -4.06588982\n",
            "    1.15352245  -0.2922035   -7.29305131   6.21659874  -3.04165122\n",
            "    0.97465543  -0.3610863    3.94668276  -1.30781773]\n",
            " [  3.76131028  -0.28908377  -4.96391339   0.09975069  -2.80785907\n",
            "   -0.8559079   -2.6845838   -2.99408479   5.70037227  -0.23674395\n",
            "   -2.61366992   0.2677442    3.23585988  -1.62301765]\n",
            " [ -2.16479944   1.72842271   2.18397007   0.54444074  -0.41417801\n",
            "    2.00210011   1.08576246  -1.97546656   2.52037798   1.65763446\n",
            "   -2.88867301   3.73310784   0.78281481  -2.32126845]]\n",
            "Layer 1:\n",
            "[[  8.67458041  -5.27804294   5.83462201 -20.43433028  17.24188817\n",
            "   18.23829326   5.35591552  10.51509487  -9.1273044 ]\n",
            " [-17.32373067  18.17520612  -1.34150004  17.19329046 -17.74199433\n",
            "  -15.99170409  -9.31073843  -9.2908081   14.35362486]\n",
            " [  5.2843947   -0.71757108   6.6239344  -20.02125961  16.01517493\n",
            "   17.86557641   3.48908361   7.55757965  -5.24750163]\n",
            " [-14.59277987  17.29428561  -0.5003475   12.16526511 -14.96341468\n",
            "  -12.91869762  -7.27799019  -6.4656133   13.04926496]\n",
            " [  5.8503572   -6.16049599  -4.43631975  -8.21980866   8.22887139\n",
            "   16.69894279   1.17911154   7.87468932 -12.96819138]\n",
            " [ 13.52203354 -20.66082543   1.16690876 -13.7672814   12.49462291\n",
            "   16.01026328   6.43302721   4.56348477 -15.2380759 ]\n",
            " [-11.73238866   9.53555925  -1.89082434  13.58643967 -16.01508179\n",
            "  -13.97526953  -5.51560546  -9.35468979  10.58992491]\n",
            " [-12.63232827  10.89529658  -6.33362123  20.96464446 -19.06043045\n",
            "  -14.37991464  -8.07040021  -4.21005953   3.34529503]\n",
            " [  7.11017843  -8.81021813  -0.37361308 -14.29762269  14.39808425\n",
            "   12.31967206   3.3635555    5.01045695  -9.05111866]\n",
            " [ -4.8484806    9.05036276   2.52930578   1.57428098  -4.32084008\n",
            "   -1.27899243  -3.27380657   0.2712458    0.47782956]\n",
            " [ -0.77486745  -8.54788242  -5.44013951   5.39469059  -3.70009698\n",
            "    1.18083617  -1.04047524  -3.11373537  -4.33872957]\n",
            " [  2.93792209  -0.60307425   1.88719943  -8.86642404   5.93562587\n",
            "    6.87983759   1.83717431   2.25556549  -2.89639578]\n",
            " [-12.21511657   7.60591765  -1.69577967  20.69896663 -20.08666351\n",
            "  -18.10271039  -6.67642113 -11.74725999   9.46611251]\n",
            " [-10.01182236   4.95538565  -4.67631441  19.1844779  -17.82026676\n",
            "  -12.53877679  -5.3965819   -5.97266516   3.4058362 ]]\n",
            "Layer 2:\n",
            "[[-1.70165142e+01 -1.34486551e+01 -3.55136379e+00 -2.90748329e+00\n",
            "   3.70649957e+01]\n",
            " [ 7.97987750e+00  2.41200991e+00 -4.74868442e+00 -3.48916473e+00\n",
            "  -1.61660169e+00]\n",
            " [-7.40414590e+00 -7.81822858e+00  9.98689176e-01  2.41605740e+00\n",
            "   1.06512422e+01]\n",
            " [ 7.09587868e+00  4.45170098e+00  1.88676466e-01  4.87402955e-01\n",
            "  -1.23102590e+01]\n",
            " [ 5.01292682e+00  7.23464640e+00  1.24366904e+01  1.50213155e+00\n",
            "  -2.55040746e+01]\n",
            " [ 1.86317384e+01  1.49077309e+01  5.88398535e+00 -6.77580514e+00\n",
            "  -3.25610610e+01]\n",
            " [ 5.85064702e-03  2.54040256e+00  1.25207275e-01  3.48220119e-01\n",
            "  -2.99556539e+00]\n",
            " [-2.88936646e+00  2.14464445e+00 -6.89806136e+00 -3.57973990e+00\n",
            "   1.07445089e+01]\n",
            " [-1.76486625e+01 -6.33747105e+00  3.54200847e+00  5.96305149e+00\n",
            "   1.47853068e+01]]\n"
          ]
        }
      ]
    },
    {
      "cell_type": "code",
      "source": [
        "print(\"Confusion Matrix for each label : \")\n",
        "\n",
        "classNum = 0\n",
        "for matrix in multilabel_confusion_matrix(class_test, pred):\n",
        "  print(f\"Class: {categories[0][classNum]}\")\n",
        "  classNum += 1\n",
        "\n",
        "  tn, fp, fn, tp = matrix.ravel()\n",
        "  print(f\"         Actual Positive | Actual Negative\")\n",
        "  print(f\"-------------------|-----|----------------\")\n",
        "  print(f\"Predicted Positive | {str(tp).rjust(3)} | {str(fp).rjust(3)}\")\n",
        "  print(f\"-------------------|-----|----------------\")\n",
        "  print(f\"Predicted Negative | {str(fn).rjust(3)} | {str(tn).rjust(3)}\")\n",
        "  print(f\"TP: {tp}, FP: {fp}, FN: {fn}, TN: {tn}\\n\")\n",
        "\n",
        "print(\"Classification Report : \")\n",
        "print(classification_report(class_test, pred))"
      ],
      "metadata": {
        "colab": {
          "base_uri": "https://localhost:8080/"
        },
        "id": "ZN5JoOBsNE21",
        "outputId": "e4cbe642-a7c0-4ba6-f30f-dbbffe1e45ef"
      },
      "execution_count": 8,
      "outputs": [
        {
          "output_type": "stream",
          "name": "stdout",
          "text": [
            "Confusion Matrix for each label : \n",
            "Class: A\n",
            "         Actual Positive | Actual Negative\n",
            "-------------------|-----|----------------\n",
            "Predicted Positive |  51 |  70\n",
            "-------------------|-----|----------------\n",
            "Predicted Negative |  38 | 286\n",
            "TP: 51, FP: 70, FN: 38, TN: 286\n",
            "\n",
            "Class: B\n",
            "         Actual Positive | Actual Negative\n",
            "-------------------|-----|----------------\n",
            "Predicted Positive |  32 |  75\n",
            "-------------------|-----|----------------\n",
            "Predicted Negative |  54 | 284\n",
            "TP: 32, FP: 75, FN: 54, TN: 284\n",
            "\n",
            "Class: C\n",
            "         Actual Positive | Actual Negative\n",
            "-------------------|-----|----------------\n",
            "Predicted Positive |  14 |  40\n",
            "-------------------|-----|----------------\n",
            "Predicted Negative |  76 | 315\n",
            "TP: 14, FP: 40, FN: 76, TN: 315\n",
            "\n",
            "Class: D\n",
            "         Actual Positive | Actual Negative\n",
            "-------------------|-----|----------------\n",
            "Predicted Positive |   9 |  28\n",
            "-------------------|-----|----------------\n",
            "Predicted Negative |  46 | 362\n",
            "TP: 9, FP: 28, FN: 46, TN: 362\n",
            "\n",
            "Class: E\n",
            "         Actual Positive | Actual Negative\n",
            "-------------------|-----|----------------\n",
            "Predicted Positive |  85 |  41\n",
            "-------------------|-----|----------------\n",
            "Predicted Negative |  40 | 279\n",
            "TP: 85, FP: 41, FN: 40, TN: 279\n",
            "\n",
            "Classification Report : \n",
            "              precision    recall  f1-score   support\n",
            "\n",
            "           0       0.42      0.57      0.49        89\n",
            "           1       0.30      0.37      0.33        86\n",
            "           2       0.26      0.16      0.19        90\n",
            "           3       0.24      0.16      0.20        55\n",
            "           4       0.67      0.68      0.68       125\n",
            "\n",
            "    accuracy                           0.43       445\n",
            "   macro avg       0.38      0.39      0.38       445\n",
            "weighted avg       0.41      0.43      0.41       445\n",
            "\n"
          ]
        }
      ]
    },
    {
      "cell_type": "code",
      "source": [
        "def gridSearch():\n",
        "  max_iterations = 200 * np.arange(1,3)\n",
        "  hidden_layer_siz = [\n",
        "      (10, 1), (11, 1), (12, 1), (13, 1), (14, 1), (15, 1), (16, 1), (17, 1), (18, 1), (19, 1), (20, 1),\n",
        "      (10, 2), (11, 2), (12, 2), (13, 2), (14, 2), (15, 2), (16, 2), (17, 2), (18, 2), (19, 2), (20, 2),\n",
        "      (10, 3), (11, 3), (12, 3), (13, 3), (14, 3), (15, 3), (16, 3), (17, 3), (18, 3), (19, 3), (20, 3),\n",
        "      (10, 4), (11, 4), (12, 4), (13, 4), (14, 4), (15, 4), (16, 4), (17, 4), (18, 4), (19, 4), (20, 4),\n",
        "      (10, 5), (11, 5), (12, 5), (13, 5), (14, 5), (15, 5), (16, 5), (17, 5), (18, 5), (19, 5), (20, 5),\n",
        "      (10, 6), (11, 6), (12, 6), (13, 6), (14, 6), (15, 6), (16, 6), (17, 6), (18, 6), (19, 6), (20, 6),\n",
        "      (10, 7), (11, 7), (12, 7), (13, 7), (14, 7), (15, 7), (16, 7), (17, 7), (18, 7), (19, 7), (20, 7),\n",
        "      (10, 8), (11, 8), (12, 8), (13, 8), (14, 8), (15, 8), (16, 8), (17, 8), (18, 8), (19, 8), (20, 8),\n",
        "      (10, 9), (11, 9), (12, 9), (13, 9), (14, 9), (15, 9), (16, 9), (17, 9), (18, 9), (19, 9), (20, 9),\n",
        "      (10, 10), (11, 10), (12, 10), (13, 10), (14, 10), (15, 10), (16, 10), (17, 10), (18, 10), (19, 10), (20, 10)\n",
        "  ]\n",
        "\n",
        "  learning_rates = 0.1 * np.arange(1, 3)\n",
        "\n",
        "  param_grid = dict(learning_rate_init = learning_rates, hidden_layer_sizes = hidden_layer_siz, max_iter = max_iterations)\n",
        "  # set model\n",
        "  mlp = MLPClassifier(solver = 'lbfgs', activation = 'logistic',\n",
        "                      learning_rate_init = 0.2, batch_size = 10, hidden_layer_sizes = (14, 9), max_iter = 200)\n",
        "\n",
        "  # For Grid Search\n",
        "  grid = GridSearchCV(estimator = mlp, param_grid = param_grid)\n",
        "\n",
        "  # For Random Search\n",
        "  # grid = RandomizedSearchCV(estimator = mlp, param_distributions = param_grid, n_iter = 10)\n",
        "\n",
        "  grid.fit(X,y)\n",
        "\n",
        "  print(\"Optimal Hyper-parameters : \", grid.best_params_)\n",
        "  print(\"Optimal Accuracy : \", grid.best_score_)\n",
        "\n",
        "#gridSearch()"
      ],
      "metadata": {
        "id": "Ab0lErcMhSht"
      },
      "execution_count": 9,
      "outputs": []
    },
    {
      "cell_type": "code",
      "source": [
        "in_h1_weights = [\n",
        "    [-2.79752657, 7.59271334, 8.1867471, 22.82337216, -33.93590325, -1.03318483, 25.75221129, -14.00994495, -11.59485717, 15.6373161, -28.62693651, 17.01538701, 17.83477055, -10.82617863],\n",
        "    [-3.04177843, -1.76559805, -0.06762998, 1.20035585, 3.30132877, -1.15914823, 2.27504115, 2.47355143, -6.58278079, 4.52413099, -2.04999341, 2.13125154, -4.76720286, -1.29893221],\n",
        "    [-4.64911977, 1.42297829, -1.03710965, -1.77969873, -4.06588982, 1.15352245, -0.2922035, -7.29305131, 6.21659874, -3.04165122, 0.97465543, -0.3610863, 3.94668276, -1.30781773],\n",
        "    [3.76131028, -0.28908377, -4.96391339, 0.09975069, -2.80785907, -0.8559079, -2.6845838, -2.99408479, 5.70037227, -0.23674395, -2.61366992, 0.2677442, 3.23585988, -1.62301765],\n",
        "    [-2.16479944, 1.72842271, 2.18397007, 0.54444074, -0.41417801, 2.00210011, 1.08576246, -1.97546656, 2.52037798, 1.65763446, -2.88867301, 3.73310784, 0.78281481, -2.32126845]\n",
        "]\n",
        "\n",
        "h1_h2_weights = [\n",
        "    [8.67458041, -5.27804294, 5.83462201, -20.43433028, 17.24188817, 18.23829326, 5.35591552, 10.51509487, -9.1273044],\n",
        "    [-17.32373067, 18.17520612, -1.34150004, 17.19329046, -17.74199433, -15.99170409, -9.31073843, -9.2908081, 14.35362486],\n",
        "    [5.2843947, -0.71757108, 6.6239344, -20.02125961, 16.01517493, 17.86557641, 3.48908361, 7.55757965, -5.24750163],\n",
        "    [-14.59277987, 17.29428561, -0.5003475, 12.16526511, -14.96341468, -12.91869762, -7.27799019, -6.4656133, 13.04926496],\n",
        "    [5.8503572, -6.16049599, -4.43631975, -8.21980866, 8.22887139, 16.69894279, 1.17911154, 7.87468932, -12.96819138],\n",
        "    [13.52203354, -20.66082543, 1.16690876, -13.7672814, 12.49462291, 16.01026328, 6.43302721, 4.56348477, -15.2380759],\n",
        "    [-11.73238866, 9.53555925, -1.89082434, 13.58643967, -16.01508179, -13.97526953, -5.51560546, -9.35468979, 10.58992491],\n",
        "    [-12.63232827, 10.89529658, -6.33362123, 20.96464446, -19.06043045, -14.37991464, -8.07040021, -4.21005953, 3.34529503],\n",
        "    [7.11017843, -8.81021813, -0.37361308, -14.29762269, 14.39808425, 12.31967206, 3.3635555, 5.01045695, -9.05111866],\n",
        "    [-4.8484806, 9.05036276, 2.52930578, 1.57428098, -4.32084008, -1.27899243, -3.27380657, 0.2712458, 0.47782956],\n",
        "    [-0.77486745, -8.54788242, -5.44013951, 5.39469059, -3.70009698, 1.18083617, -1.04047524, -3.11373537, -4.33872957],\n",
        "    [2.93792209, -0.60307425, 1.88719943, -8.86642404, 5.93562587, 6.87983759, 1.83717431, 2.25556549, -2.89639578],\n",
        "    [-12.21511657, 7.60591765, -1.69577967, 20.69896663, -20.08666351, -18.10271039, -6.67642113, -11.74725999, 9.46611251],\n",
        "    [-10.01182236, 4.95538565, -4.67631441, 19.1844779, -17.82026676, -12.53877679, -5.3965819, -5.97266516, 3.4058362]\n",
        "]\n",
        "\n",
        "h2_out_weights = [\n",
        "    [-17.0165142, -13.4486551, -3.55136379, -2.90748329, 37.0649957],\n",
        "    [7.9798775, 2.41200991, -4.74868442, -3.48916473, -1.61660169],\n",
        "    [-7.4041459, -7.81822858, 0.998689176, 2.4160574, 10.6512422],\n",
        "    [7.09587868, 4.45170098, 0.188676466, 0.487402955, -12.310259],\n",
        "    [5.01292682, 7.2346464, 12.4366904, 1.50213155, -25.5040746],\n",
        "    [18.6317384, 14.9077309, 5.88398535, -6.77580514, -32.561061],\n",
        "    [0.00585064702, 2.54040256, 0.125207275, 0.348220119, -2.99556539],\n",
        "    [-2.88936646, 2.14464445, -6.89806136, -3.5797399, 10.7445089],\n",
        "    [-17.6486625, -6.33747105, 3.54200847, 5.96305149, 14.7853068]\n",
        "]"
      ],
      "metadata": {
        "id": "E7m9qFtp6z5r"
      },
      "execution_count": 10,
      "outputs": []
    },
    {
      "cell_type": "code",
      "source": [
        "warnings.filterwarnings(\"ignore\", category=RuntimeWarning)\n",
        "\n",
        "def sigmoid(num):\n",
        "  return (1/(1+np.exp(-num)))\n",
        "\n",
        "size = 5\n",
        "latitude = 38.544907\n",
        "longitude = -121.740517\n",
        "temperature = 50.3\n",
        "precipitation = 3.64\n",
        "\n",
        "inputs = [size, latitude, longitude, temperature, precipitation]\n",
        "hidden1 = [0]*14\n",
        "hidden2 = [0]*9\n",
        "outputs = [0]*5\n",
        "\n",
        "for i in range(14):\n",
        "  nodeInput = 0\n",
        "  for j in range(5):\n",
        "    nodeInput += inputs[j] * in_h1_weights[j][i]\n",
        "  hidden1[i] = sigmoid(nodeInput)\n",
        "\n",
        "for i in range(9):\n",
        "  nodeInput = 0\n",
        "  for j in range(14):\n",
        "    nodeInput += hidden1[j] * h1_h2_weights[j][i]\n",
        "  hidden2[i] = sigmoid(nodeInput)\n",
        "\n",
        "for i in range(5):\n",
        "  nodeInput = 0\n",
        "  for j in range(9):\n",
        "    nodeInput += hidden2[j] * h2_out_weights[j][i]\n",
        "  outputs[i] = sigmoid(nodeInput)\n",
        "\n",
        "print(\"The values in the output layer are:\")\n",
        "print(outputs)\n",
        "pickedClass_val = 0\n",
        "for i in range(5):\n",
        "  if(outputs[i] > pickedClass_val):\n",
        "    pickedIndex = i\n",
        "    pickedClass_val = outputs[i]\n",
        "\n",
        "costClasses = ['less than $100', '$100 to $500', '$500 to $2,500', '$2,500 to $10,000', 'more than $10,000']\n",
        "print(f\"The fire is predicted to cost {costClasses[pickedIndex]}\")"
      ],
      "metadata": {
        "colab": {
          "base_uri": "https://localhost:8080/"
        },
        "id": "Uw643JMD7Q2x",
        "outputId": "b167ea0c-9211-4715-e368-113ad31078d6"
      },
      "execution_count": 12,
      "outputs": [
        {
          "output_type": "stream",
          "name": "stdout",
          "text": [
            "The values in the output layer are:\n",
            "[0.00030304652126898366, 0.013253709834425196, 0.08844878242158305, 0.8308106451591845, 0.9999964632556898]\n",
            "The fire is predicted to cost more than $10,000\n"
          ]
        }
      ]
    }
  ]
}
